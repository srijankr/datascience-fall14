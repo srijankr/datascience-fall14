{
 "metadata": {
  "name": "lab1 srijan"
 }, 
 "nbformat": 2, 
 "worksheets": [
  {
   "cells": [
    {
     "cell_type": "markdown", 
     "source": [
      "Submitted by: Srijan Kumar for CMSC828O", 
      "", 
      "Part 1"
     ]
    }, 
    {
     "cell_type": "code", 
     "collapsed": false, 
     "input": [
      "%pylab inline", 
      "from sklearn import *", 
      "import matplotlib.pyplot as plt", 
      "import numpy as np"
     ], 
     "language": "python", 
     "outputs": [
      {
       "output_type": "stream", 
       "stream": "stdout", 
       "text": [
        "", 
        "Welcome to pylab, a matplotlib-based Python environment [backend: module://IPython.zmq.pylab.backend_inline].", 
        "For more information, type 'help(pylab)'."
       ]
      }
     ], 
     "prompt_number": 29
    }, 
    {
     "cell_type": "code", 
     "collapsed": true, 
     "input": [
      "boston = datasets.load_boston()"
     ], 
     "language": "python", 
     "outputs": [], 
     "prompt_number": 2
    }, 
    {
     "cell_type": "code", 
     "collapsed": false, 
     "input": [
      "print \"Number of features:\", len(boston.feature_names)", 
      "print \"Number of samples:\", len(boston.data)"
     ], 
     "language": "python", 
     "outputs": [
      {
       "output_type": "stream", 
       "stream": "stdout", 
       "text": [
        "Number of features: 14", 
        "Number of samples: 506"
       ]
      }
     ], 
     "prompt_number": 3
    }, 
    {
     "cell_type": "code", 
     "collapsed": false, 
     "input": [
      "ftrs = boston.DESCR.split(\"Attribute Information (in order):\")[1].strip().split(\"\\n\")[:5]", 
      "print \"First 5 features:\"", 
      "for ftr in ftrs:", 
      "    print ftr.strip()[2:]"
     ], 
     "language": "python", 
     "outputs": [
      {
       "output_type": "stream", 
       "stream": "stdout", 
       "text": [
        "First 5 features:", 
        "CRIM     per capita crime rate by town", 
        "ZN       proportion of residential land zoned for lots over 25,000 sq.ft.", 
        "INDUS    proportion of non-retail business acres per town", 
        "CHAS     Charles River dummy variable (= 1 if tract bounds river; 0 otherwise)", 
        "NOX      nitric oxides concentration (parts per 10 million)"
       ]
      }
     ], 
     "prompt_number": 4
    }, 
    {
     "cell_type": "code", 
     "collapsed": false, 
     "input": [
      "X = boston.data[:,0]", 
      "Y = boston.target", 
      "plt.xlabel(\"Per capita crime rate\")", 
      "plt.ylabel(\"Price of houses\")", 
      "plt.title(\"Crime vs house value plot in Boston\")", 
      "plt.scatter(X,Y)"
     ], 
     "language": "python", 
     "outputs": [
      {
       "output_type": "pyout", 
       "prompt_number": 6, 
       "text": [
        "<matplotlib.collections.PathCollection at 0x3e265d0>"
       ]
      }, 
      {
       "output_type": "display_data", 
       "png": "[encoded data removed]"
      }
     ], 
     "prompt_number": 6
    }, 
    {
     "cell_type": "markdown", 
     "source": [
      "Part 2", 
      "", 
      "Exercise 2.1"
     ]
    }, 
    {
     "cell_type": "code", 
     "collapsed": true, 
     "input": [
      "from sklearn.linear_model import LinearRegression", 
      "from sklearn.metrics import mean_squared_error"
     ], 
     "language": "python", 
     "outputs": [], 
     "prompt_number": 63
    }, 
    {
     "cell_type": "code", 
     "collapsed": false, 
     "input": [
      "diabetes = datasets.load_diabetes()"
     ], 
     "language": "python", 
     "outputs": [], 
     "prompt_number": 72
    }, 
    {
     "cell_type": "code", 
     "collapsed": false, 
     "input": [
      "xtrain = diabetes.data[:-20,:]", 
      "ytrain = diabetes.target[:-20]", 
      "", 
      "xtest = diabetes.data[-20:,:]", 
      "ytest = diabetes.target[-20:]"
     ], 
     "language": "python", 
     "outputs": [], 
     "prompt_number": 100
    }, 
    {
     "cell_type": "code", 
     "collapsed": false, 
     "input": [
      "lr = LinearRegression()", 
      "model = lr.fit(xtrain,ytrain)", 
      "ypred = model.predict(xtest)", 
      "print \"Mean squared error is \", mean_squared_error(ytest,ypred)", 
      "print \"Therefore selecting all the features is better than just one feature.\""
     ], 
     "language": "python", 
     "outputs": [
      {
       "output_type": "stream", 
       "stream": "stdout", 
       "text": [
        "Mean squared error is  2004.56760269", 
        "Therefore selecting all the features is better than just one feature."
       ]
      }
     ], 
     "prompt_number": 101
    }, 
    {
     "cell_type": "markdown", 
     "source": [
      "Exercise 2.2"
     ]
    }, 
    {
     "cell_type": "code", 
     "collapsed": false, 
     "input": [
      "from sklearn.feature_selection import RFE", 
      "", 
      "rfe = RFE(estimator=model, n_features_to_select=2, step=1)", 
      "rfemodel = rfe.fit(xtrain, ytrain)", 
      "ypred = rfemodel.predict(xtest)", 
      "print \"Mean squared error with using 2 features is \", mean_squared_error(ytest,ypred)"
     ], 
     "language": "python", 
     "outputs": [
      {
       "output_type": "stream", 
       "stream": "stdout", 
       "text": [
        "Mean squared error with using 2 features is  1984.50821529"
       ]
      }
     ], 
     "prompt_number": 102
    }, 
    {
     "cell_type": "code", 
     "collapsed": false, 
     "input": [
      "X = []", 
      "Y = []", 
      "for i in range(diabetes.data.shape[1]):", 
      "    rfe = RFE(estimator=model, n_features_to_select=i+1, step=1)", 
      "    rfemodel = rfe.fit(xtrain, ytrain)", 
      "    ypred = rfemodel.predict(xtest)", 
      "    X.append(i+1)", 
      "    Y.append(mean_squared_error(ytest,ypred))"
     ], 
     "language": "python", 
     "outputs": [], 
     "prompt_number": 120
    }, 
    {
     "cell_type": "code", 
     "collapsed": false, 
     "input": [
      "plt.plot(X,Y)", 
      "plt.xlabel(\"# features\")", 
      "plt.ylabel(\"Mean squared error\")", 
      "plt.title(\"Variation of error w.r.t. number features selected, for diabetes dataset\")"
     ], 
     "language": "python", 
     "outputs": [
      {
       "output_type": "pyout", 
       "prompt_number": 121, 
       "text": [
        "<matplotlib.text.Text at 0x4f80910>"
       ]
      }, 
      {
       "output_type": "display_data", 
       "png": "[encoded data removed]"
      }
     ], 
     "prompt_number": 121
    }, 
    {
     "cell_type": "markdown", 
     "source": [
      "The best selection is when 3 features are selected.", 
      "", 
      "Exercise 3.1"
     ]
    }, 
    {
     "cell_type": "code", 
     "collapsed": false, 
     "input": [
      "X = [20,40,60,80]", 
      "Y = []", 
      "", 
      "(rows,cols) = boston.data.shape", 
      "", 
      "bostonxtrain = boston.data[:floor(0.2*rows),:]", 
      "bostonxtest = boston.data[floor(0.2*rows):,:]", 
      "", 
      "bostonytrain = boston.target[:floor(0.2*rows)]", 
      "bostonytest = boston.target[floor(0.2*rows):]", 
      "", 
      "lr = LinearRegression()", 
      "model = lr.fit(bostonxtrain, bostonytrain)", 
      "ypred = model.predict(bostonxtest)", 
      "Y.append(mean_squared_error(bostonytest,ypred))", 
      "", 
      "################# 40% training ################", 
      "bostonxtrain = boston.data[:floor(0.4*rows),:]", 
      "bostonxtest = boston.data[floor(0.4*rows):,:]", 
      "", 
      "bostonytrain = boston.target[:floor(0.4*rows)]", 
      "bostonytest = boston.target[floor(0.4*rows):]", 
      "", 
      "lr = LinearRegression()", 
      "model = lr.fit(bostonxtrain, bostonytrain)", 
      "ypred = model.predict(bostonxtest)", 
      "Y.append(mean_squared_error(bostonytest,ypred))", 
      "", 
      "", 
      "################ 60% training ##################", 
      "bostonxtrain = boston.data[:floor(0.6*rows),:]", 
      "bostonxtest = boston.data[floor(0.6*rows):,:]", 
      "", 
      "bostonytrain = boston.target[:floor(0.6*rows)]", 
      "bostonytest = boston.target[floor(0.6*rows):]", 
      "", 
      "lr = LinearRegression()", 
      "model = lr.fit(bostonxtrain, bostonytrain)", 
      "ypred = model.predict(bostonxtest)", 
      "Y.append(mean_squared_error(bostonytest,ypred))", 
      "", 
      "", 
      "############## 80% training #################", 
      "", 
      "bostonxtrain = boston.data[:floor(0.8*rows),:]", 
      "bostonxtest = boston.data[floor(0.8*rows):,:]", 
      "", 
      "bostonytrain = boston.target[:floor(0.8*rows)]", 
      "bostonytest = boston.target[floor(0.8*rows):]", 
      "", 
      "lr = LinearRegression()", 
      "model = lr.fit(bostonxtrain, bostonytrain)", 
      "ypred = model.predict(bostonxtest)", 
      "Y.append(mean_squared_error(bostonytest,ypred))", 
      "", 
      "", 
      "plt.plot(X,Y)", 
      "plt.xlabel(\"% training\")", 
      "plt.ylabel(\"Mean squared error\")", 
      "plt.title(\"Variation of error with training sample size\")"
     ], 
     "language": "python", 
     "outputs": [
      {
       "output_type": "pyout", 
       "prompt_number": 130, 
       "text": [
        "<matplotlib.text.Text at 0x58df890>"
       ]
      }, 
      {
       "output_type": "display_data", 
       "png": "[encoded data removed]"
      }
     ], 
     "prompt_number": 130
    }, 
    {
     "cell_type": "markdown", 
     "source": [
      "Exercise 4.1"
     ]
    }, 
    {
     "cell_type": "code", 
     "collapsed": true, 
     "input": [
      "from sklearn import svm", 
      "from sklearn.metrics import hamming_loss", 
      "", 
      "iris = datasets.load_iris()", 
      "(rows,cols) = iris.data.shape", 
      "", 
      "xtrain = iris.data[:floor(0.8*rows),:]", 
      "xtest = iris.data[floor(0.8*rows):,:]", 
      "", 
      "ytrain = iris.target[:floor(0.8*rows)]", 
      "ytest = iris.target[floor(0.8*rows):]"
     ], 
     "language": "python", 
     "outputs": [], 
     "prompt_number": 151
    }, 
    {
     "cell_type": "code", 
     "collapsed": false, 
     "input": [
      "clf_linear = svm.SVC(kernel='linear')", 
      "clf_linear.fit(xtrain, ytrain)", 
      "", 
      "ypred = clf_linear.predict(xtest)", 
      "print \"Total misclassifications using linear SVM for 20% test split =\", hamming_loss(ypred,ytest)*ytest.size, \"out of\", ytest.size", 
      "", 
      "ypred_svm = clf_linear.predict(iris.data)", 
      "print \"Total misclassifications using linear SVM for entire data =\", hamming_loss(ypred_svm,iris.target)*iris.target.size, \"out of\", iris.target.size"
     ], 
     "language": "python", 
     "outputs": [
      {
       "output_type": "stream", 
       "stream": "stdout", 
       "text": [
        "Total misclassifications using linear SVM for 20% test split = 4.0 out of 30", 
        "Total misclassifications using linear SVM for entire data = 5.0 out of 150"
       ]
      }
     ], 
     "prompt_number": 163
    }, 
    {
     "cell_type": "code", 
     "collapsed": false, 
     "input": [
      "clf_rbf = svm.SVC(kernel='rbf')", 
      "clf_rbf.fit(xtrain, ytrain)", 
      "", 
      "ypred = clf_rbf.predict(xtest)", 
      "print \"Total misclassifications using RBF kernel SVM on 20% test split =\", hamming_loss(ypred,ytest)*ytest.size, \"out of\", ytest.size", 
      "", 
      "ypred_rbf = clf_rbf.predict(iris.data)", 
      "print \"Total misclassifications using RBF kernel SVM on entire data =\", hamming_loss(ypred_rbf,iris.target)*iris.target.size, \"out of\", iris.target.size"
     ], 
     "language": "python", 
     "outputs": [
      {
       "output_type": "stream", 
       "stream": "stdout", 
       "text": [
        "Total misclassifications using RBF kernel SVM on 20% test split = 5.0 out of 30", 
        "Total misclassifications using RBF kernel SVM on entire data = 8.0 out of 150"
       ]
      }
     ], 
     "prompt_number": 174
    }, 
    {
     "cell_type": "markdown", 
     "source": [
      "Exercise 4.2"
     ]
    }, 
    {
     "cell_type": "code", 
     "collapsed": false, 
     "input": [
      "from sklearn.tree import DecisionTreeClassifier as dtree", 
      "", 
      "tree = dtree()", 
      "tree.fit(xtrain, ytrain)", 
      "", 
      "ypred = tree.predict(xtest)", 
      "print \"Total misclassifications using Decision tree on 20% test split =\", hamming_loss(ypred,ytest)*ytest.size, \"out of\", ytest.size", 
      "", 
      "ypred_dtree = tree.predict(iris.data)", 
      "print \"Total misclassifications using Decision tree on entire data =\", hamming_loss(ypred_dtree,iris.target)*iris.target.size, \"out of\", iris.target.size", 
      ""
     ], 
     "language": "python", 
     "outputs": [
      {
       "output_type": "stream", 
       "stream": "stdout", 
       "text": [
        "Total misclassifications using Decision tree on 20% test split = 6.0 out of 30", 
        "Total misclassifications using Decision tree on entire data = 6.0 out of 150"
       ]
      }
     ], 
     "prompt_number": 175
    }, 
    {
     "cell_type": "markdown", 
     "source": [
      "Exercise 5.1"
     ]
    }, 
    {
     "cell_type": "code", 
     "collapsed": false, 
     "input": [
      "from sklearn.cluster import KMeans", 
      "from sklearn import metrics", 
      "", 
      "kmeans = KMeans(init='random', n_clusters = 3, n_init=10)", 
      "kmeans.fit(iris.data)", 
      "", 
      "# Homogeneity score: evaluates if each cluster contains only memebers of a single class", 
      "print \"Homogeneity_score of K-means =\",metrics.homogeneity_score(iris.target,kmeans.labels_)", 
      "print \"Homogeneity_score of Linear SVM =\",metrics.homogeneity_score(iris.target,ypred_svm)", 
      "print \"Homogeneity_score of RBF kernel SVM =\",metrics.homogeneity_score(iris.target,ypred_rbf)", 
      "print \"Homogeneity_score of Decision Tree =\",metrics.homogeneity_score(iris.target,ypred_dtree)", 
      "", 
      "# Completeness score: evaluates if all members of a given class are assigned to the same cluster", 
      "print \"\\n\\nCompleteness_score of K-means =\",metrics.completeness_score(iris.target,kmeans.labels_)", 
      "print \"Completeness_score of Linear SVM =\",metrics.completeness_score(iris.target,ypred_svm)", 
      "print \"Completeness_score of RBF kernel SVM =\",metrics.completeness_score(iris.target,ypred_rbf)", 
      "print \"Completeness_score of Decision Tree =\",metrics.completeness_score(iris.target,ypred_dtree)"
     ], 
     "language": "python", 
     "outputs": [
      {
       "output_type": "stream", 
       "stream": "stdout", 
       "text": [
        "Homogeneity_score of K-means = 0.751485402199", 
        "Homogeneity_score of Linear SVM = 0.884578435271", 
        "Homogeneity_score of RBF kernel SVM = 0.843002739518", 
        "Homogeneity_score of Decision Tree = 0.884290464792", 
        "", 
        "", 
        "Completeness_score of K-means = 0.764986151449", 
        "Completeness_score of Linear SVM = 0.885546287232", 
        "Completeness_score of RBF kernel SVM = 0.846711075879", 
        "Completeness_score of Decision Tree = 0.888180424255"
       ]
      }
     ], 
     "prompt_number": 189
    }, 
    {
     "cell_type": "code", 
     "collapsed": true, 
     "input": [], 
     "language": "python", 
     "outputs": []
    }
   ]
  }
 ]
}