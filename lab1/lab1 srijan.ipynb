{
 "metadata": {
  "name": "lab1 srijan"
 }, 
 "nbformat": 2, 
 "worksheets": [
  {
   "cells": [
    {
     "cell_type": "code", 
     "collapsed": false, 
     "input": [
      "from sklearn import *", 
      "import matplotlib.pyplot as plt"
     ], 
     "language": "python", 
     "outputs": [], 
     "prompt_number": 25
    }, 
    {
     "cell_type": "code", 
     "collapsed": true, 
     "input": [
      "boston = datasets.load_boston()"
     ], 
     "language": "python", 
     "outputs": [], 
     "prompt_number": 3
    }, 
    {
     "cell_type": "code", 
     "collapsed": false, 
     "input": [
      "print \"Number of features:\", len(boston.feature_names)", 
      "print \"Number of samples:\", len(boston.data)"
     ], 
     "language": "python", 
     "outputs": [
      {
       "output_type": "stream", 
       "stream": "stdout", 
       "text": [
        "Number of features: 14", 
        "Number of samples: 506"
       ]
      }
     ], 
     "prompt_number": 5
    }, 
    {
     "cell_type": "code", 
     "collapsed": false, 
     "input": [
      "ftrs = boston.DESCR.split(\"Attribute Information (in order):\")[1].strip().split(\"\\n\")[:5]", 
      "print \"First 5 features:\"", 
      "for ftr in ftrs:", 
      "    print ftr.strip()[2:]"
     ], 
     "language": "python", 
     "outputs": [
      {
       "output_type": "stream", 
       "stream": "stdout", 
       "text": [
        "First 5 features:", 
        "CRIM     per capita crime rate by town", 
        "ZN       proportion of residential land zoned for lots over 25,000 sq.ft.", 
        "INDUS    proportion of non-retail business acres per town", 
        "CHAS     Charles River dummy variable (= 1 if tract bounds river; 0 otherwise)", 
        "NOX      nitric oxides concentration (parts per 10 million)"
       ]
      }
     ], 
     "prompt_number": 24
    }, 
    {
     "cell_type": "code", 
     "collapsed": false, 
     "input": [
      "%pylab inline", 
      "X = boston.data[:,1]"
     ], 
     "language": "python", 
     "outputs": [
      {
       "output_type": "stream", 
       "stream": "stdout", 
       "text": [
        "", 
        "Welcome to pylab, a matplotlib-based Python environment [backend: module://IPython.zmq.pylab.backend_inline].", 
        "For more information, type 'help(pylab)'."
       ]
      }
     ], 
     "prompt_number": 36
    }, 
    {
     "cell_type": "code", 
     "collapsed": true, 
     "input": [], 
     "language": "python", 
     "outputs": []
    }
   ]
  }
 ]
}