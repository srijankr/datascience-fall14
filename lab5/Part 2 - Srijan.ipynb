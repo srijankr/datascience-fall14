{
 "metadata": {
  "name": "",
  "signature": "sha256:69c9d93d6a95412719c2d113f964ad3de387a199b9ca110be8a44346ea005a63"
 },
 "nbformat": 3,
 "nbformat_minor": 0,
 "worksheets": [
  {
   "cells": [
    {
     "cell_type": "markdown",
     "metadata": {},
     "source": [
      "### Assignment \n",
      "\n",
      "**PART 2.1 (NER):** Download, say 10 recent news articles, on some topic. Write code to extract named entities from each of them. The final output should simply be a list of entities and their types, which would require understanding the structure of the output of the ne_chunk command, and traversing it to find just the named entities. \n",
      "\n",
      "Submit both the python code, and the entities you extracted. For example, for the article above, the output should be:\n",
      "\n",
      "    Ebola, PERSON\n",
      "    Published, PERSON\n",
      "    Facebook, PERSON\n",
      "    ...\n",
      "\n",
      "**Part 2.2 (Relation Extraction):** Write a few regular expressions to extract different types of PERSON-ORGANIZATION relationships (e.g., PERSON executive at ORGANIZATION) over the same dataset (the IEER Corpus). You can use the above script mostly unchanged with the changes being: definition of the pattern IN, and the arguments to `extract_rels`. \n",
      "\n",
      "It may be useful to see the text of some of the documents, e.g., the second document in the above corpus can be seen by running:\n",
      "\n",
      "    print(nltk.corpus.ieer.parsed_docs('NYT_19980315')[1].text)"
     ]
    },
    {
     "cell_type": "code",
     "collapsed": false,
     "input": [
      "import nltk"
     ],
     "language": "python",
     "metadata": {},
     "outputs": [],
     "prompt_number": 37
    },
    {
     "cell_type": "heading",
     "level": 1,
     "metadata": {},
     "source": [
      "Part 2.1 (NER)"
     ]
    },
    {
     "cell_type": "code",
     "collapsed": false,
     "input": [
      "for i in range(1,6):\n",
      "    f = open(\"./articles/news\" + str(i),\"r\")\n",
      "    data = f.read()\n",
      "    sentences = nltk.sent_tokenize(data)\n",
      "    sentences = [nltk.word_tokenize(sent) for sent in sentences]\n",
      "    sentences = [nltk.pos_tag(sent) for sent in sentences]\n",
      "\n",
      "    for sent in sentences:\n",
      "        chunked = nltk.ne_chunk(sent)\n",
      "\n",
      "        for n in chunked:\n",
      "            if isinstance(n, nltk.tree.Tree):      \n",
      "                m = str(n)[1:-1].split()\n",
      "                print ' '.join([x.split(\"/\")[0] for x in m[1:]]), ',', m[0]"
     ],
     "language": "python",
     "metadata": {},
     "outputs": [
      {
       "output_type": "stream",
       "stream": "stdout",
       "text": [
        "Dallas , GPE\n",
        "Ebola , PERSON\n",
        "Atlanta , GPE\n",
        "Emory University Hospital , PERSON\n",
        "Bruce Ribner , PERSON\n",
        "Amber Vinson , PERSON\n",
        "Ebola , PERSON\n",
        "Vinson , PERSON\n",
        "Ebola , ORGANIZATION\n",
        "Nancy Writebol , PERSON\n",
        "Obama"
       ]
      },
      {
       "output_type": "stream",
       "stream": "stdout",
       "text": [
        " , GPE\n",
        "U.S. , GPE\n",
        "Ebola Vinson , PERSON\n",
        "Expert , GPE\n",
        "Ebola , ORGANIZATION\n",
        "Dad , GPE\n",
        "Australia , GPE\n",
        "Ebola Ribner , PERSON\n",
        "Vinson , PERSON\n",
        "Ebola , PERSON\n",
        "Vinson"
       ]
      },
      {
       "output_type": "stream",
       "stream": "stdout",
       "text": [
        " , GPE\n",
        "Dallas , GPE\n",
        "Ebola , PERSON\n",
        "Liberian , GPE\n",
        "Thomas Eric Duncan , PERSON\n",
        "United States , GPE\n",
        "Duncan , GPE\n",
        "Liberia , GPE\n",
        "Texas , GPE\n",
        "Dallas , PERSON\n",
        "Texas Health Presbyterian Hospital , PERSON\n",
        "Nina Pham , PERSON\n",
        "National Institutes , ORGANIZATION\n",
        "Health , GPE\n",
        "Maryland , GPE\n",
        "Barack Obama , PERSON\n",
        "White House , FACILITY\n",
        "Vinson"
       ]
      },
      {
       "output_type": "stream",
       "stream": "stdout",
       "text": [
        " , PERSON\n",
        "Texas Health , ORGANIZATION\n",
        "Hospital , ORGANIZATION\n",
        "Emory University Hospital , PERSON\n",
        "David Lakey , PERSON\n",
        "Texas Department , ORGANIZATION\n",
        "State Health Services , ORGANIZATION\n",
        "Amber Vinson , PERSON\n",
        "Ebola , GPE\n",
        "Texas"
       ]
      },
      {
       "output_type": "stream",
       "stream": "stdout",
       "text": [
        " , GPE\n",
        "Vinson , PERSON\n",
        "Texas Health Presbyterian Hospital , PERSON\n",
        "Ribner , PERSON\n",
        "Ebola , GPE\n",
        "Vinson , PERSON\n",
        "Ebola"
       ]
      },
      {
       "output_type": "stream",
       "stream": "stdout",
       "text": [
        " , GPE\n",
        "Emory , GPE\n",
        "West Africa , LOCATION\n",
        "United States , GPE\n",
        "Ribner , PERSON\n",
        "Complete , GPE\n",
        "Ebola , PERSON\n",
        "Obama , PERSON\n",
        "Americans , GPE\n",
        "West Africa , LOCATION\n",
        "Ebola , ORGANIZATION\n",
        "Liberia"
       ]
      },
      {
       "output_type": "stream",
       "stream": "stdout",
       "text": [
        " , GPE\n",
        "United States , GPE\n",
        "Liberia , GPE\n",
        "Guinea , PERSON\n",
        "Sierra Leone , PERSON\n",
        "Obama , PERSON\n",
        "West African , LOCATION\n",
        "Ebola"
       ]
      },
      {
       "output_type": "stream",
       "stream": "stdout",
       "text": [
        " , GPE\n",
        "Liberia , GPE\n",
        "Sierra Leone , PERSON\n",
        "Guinea , GPE\n",
        "World , ORGANIZATION\n",
        "Ebola , PERSON\n",
        "Vinson , PERSON\n",
        "Ebola , PERSON\n",
        "Craig Spencer , PERSON\n",
        "U.S. , GPE\n",
        "Spencer"
       ]
      },
      {
       "output_type": "stream",
       "stream": "stdout",
       "text": [
        " , GPE\n",
        "Ebola , PERSON\n",
        "New York , GPE\n",
        "Ebola , PERSON\n",
        "Guinea , GPE\n",
        "New York , GPE\n",
        "New York , GPE\n",
        "U.S. , GPE\n",
        "Duncan , GPE\n",
        "Vinson , PERSON\n",
        "Pham , PERSON\n",
        "West Africa , LOCATION\n",
        "Ebola"
       ]
      },
      {
       "output_type": "stream",
       "stream": "stdout",
       "text": [
        " , GPE\n",
        "Ebola , PERSON\n",
        "University , ORGANIZATION\n",
        "Maryland Medical Center , ORGANIZATION\n",
        "Baltimore , GPE\n",
        "Child"
       ]
      },
      {
       "output_type": "stream",
       "stream": "stdout",
       "text": [
        " , GPE\n",
        "Ebola , PERSON\n",
        "West Africa , LOCATION\n",
        "New York , GPE\n",
        "Ebola , ORGANIZATION\n",
        "New York City , GPE\n",
        "Bellevue Hospital Center , ORGANIZATION\n",
        "CNN , ORGANIZATION\n",
        "Spencer"
       ]
      },
      {
       "output_type": "stream",
       "stream": "stdout",
       "text": [
        " , GPE\n",
        "U.S. , GPE\n",
        "American , GPE\n",
        "Army , ORGANIZATION\n",
        "Vicenza , GPE\n",
        "Italy , GPE\n",
        "West Africa , LOCATION\n",
        "Darryl Williams , PERSON\n",
        "U.S. Army , GPE\n",
        "Africa , GPE\n",
        "CNN , ORGANIZATION\n",
        "Williams , PERSON\n",
        "New"
       ]
      },
      {
       "output_type": "stream",
       "stream": "stdout",
       "text": [
        " , GPE\n",
        "Jersey Gov , PERSON\n",
        "Chris , PERSON\n",
        "Christie , PERSON\n",
        "Ebola , GPE\n",
        "Christie"
       ]
      },
      {
       "output_type": "stream",
       "stream": "stdout",
       "text": [
        " , GPE\n",
        "Christie , PERSON\n",
        "Cuomo , PERSON\n",
        "Ebola , PERSON\n",
        "White House , FACILITY\n",
        "Christie , PERSON\n",
        "NBC , ORGANIZATION\n",
        "American , GPE\n",
        "Ebola"
       ]
      },
      {
       "output_type": "stream",
       "stream": "stdout",
       "text": [
        " , PERSON\n",
        "Chris Christie Christie , PERSON\n",
        "Ebola , ORGANIZATION\n",
        "New Jersey , GPE\n",
        "Ebola , PERSON\n",
        "West Africa , LOCATION\n",
        "Sierra , GPE\n",
        "New Jersey , GPE\n",
        "Army"
       ]
      },
      {
       "output_type": "stream",
       "stream": "stdout",
       "text": [
        " , GPE\n",
        "Ebola , PERSON\n",
        "Obama , ORGANIZATION\n",
        "New York , GPE\n",
        "Christie , PERSON\n",
        "Anthony Fauci"
       ]
      },
      {
       "output_type": "stream",
       "stream": "stdout",
       "text": [
        " , PERSON\n",
        "National Institute , ORGANIZATION\n",
        "Allergy , GPE\n",
        "Infectious Diseases , ORGANIZATION\n",
        "National Institutes , ORGANIZATION\n",
        "Health , GPE\n",
        "Fauci , PERSON\n",
        "West Africa , LOCATION\n",
        "United States , GPE\n",
        "Quarantined"
       ]
      },
      {
       "output_type": "stream",
       "stream": "stdout",
       "text": [
        " , GPE\n",
        "Ebola , PERSON\n",
        "Christie , PERSON\n",
        "New Jersey , GPE\n",
        "Ebola"
       ]
      },
      {
       "output_type": "stream",
       "stream": "stdout",
       "text": [
        " , ORGANIZATION\n",
        "Disease Control , PERSON\n",
        "New Jersey , GPE\n",
        "White House , FACILITY\n",
        "Ebola , ORGANIZATION\n",
        "Democratic , ORGANIZATION\n",
        "Maryland , GPE\n",
        "Virginia , GPE\n",
        "Chris"
       ]
      },
      {
       "output_type": "stream",
       "stream": "stdout",
       "text": [
        " , PERSON\n",
        "Christie , ORGANIZATION\n",
        "New Jersey , GPE\n",
        "Maine , GPE\n",
        "Ebola , GPE\n",
        "U.S. , GPE\n",
        "Kaci Hickox , PERSON\n",
        "West Africa , LOCATION\n",
        "Republican , ORGANIZATION\n",
        "CNN , ORGANIZATION\n",
        "Christie , PERSON\n",
        "Hickox"
       ]
      },
      {
       "output_type": "stream",
       "stream": "stdout",
       "text": [
        " , GPE\n",
        "Christie , PERSON\n",
        "Quarantined , GPE\n",
        "White House , FACILITY\n",
        "Ebola , PERSON\n",
        "Paul , PERSON\n",
        "LePage , ORGANIZATION\n",
        "Maine , PERSON\n",
        "Hickox , PERSON\n",
        "Steven"
       ]
      },
      {
       "output_type": "stream",
       "stream": "stdout",
       "text": [
        " , PERSON\n",
        "Hyman , GPE\n",
        "Hickox , PERSON\n",
        "CNN , ORGANIZATION\n",
        "Alexandra Field , PERSON\n",
        "Hyman , PERSON\n",
        "New Jersey , ORGANIZATION\n",
        "Florida , GPE\n",
        "Republican , ORGANIZATION\n",
        "Rick , PERSON\n",
        "Scott , GPE\n",
        "Christie , PERSON\n",
        "New Jersey , ORGANIZATION\n",
        "Hickox"
       ]
      },
      {
       "output_type": "stream",
       "stream": "stdout",
       "text": [
        " , PERSON\n",
        "New Jersey , GPE\n",
        "United States , GPE\n",
        "West Africa , LOCATION\n",
        "Christie , ORGANIZATION\n",
        "Thirty"
       ]
      },
      {
       "output_type": "stream",
       "stream": "stdout",
       "text": [
        " , GPE\n",
        "West Africa , LOCATION\n",
        "Italy , GPE\n",
        "Army , ORGANIZATION\n",
        "CNN , ORGANIZATION\n",
        "Army , ORGANIZATION\n",
        "Darryl A. Williams , PERSON\n",
        "U.S. , GPE\n",
        "Army Africa , ORGANIZATION\n",
        "Italy , GPE\n",
        "West Africa , LOCATION\n",
        "U.S. , GPE\n",
        "American"
       ]
      },
      {
       "output_type": "stream",
       "stream": "stdout",
       "text": [
        " , GPE\n",
        "Pentagon , ORGANIZATION\n",
        "Williams , PERSON\n",
        "Italian , GPE\n",
        "CDC , ORGANIZATION\n",
        "U.S. , GPE\n",
        "Ebola , GPE\n",
        "Doctor"
       ]
      },
      {
       "output_type": "stream",
       "stream": "stdout",
       "text": [
        " , GPE\n",
        "Ebola , PERSON\n",
        "CDC , ORGANIZATION\n",
        "U.S. , GPE\n",
        "Vicenza Italy , ORGANIZATION\n",
        "U.S. , GPE\n",
        "Senior Pentagon , ORGANIZATION\n",
        "House Ebola"
       ]
      },
      {
       "output_type": "stream",
       "stream": "stdout",
       "text": [
        " , ORGANIZATION\n",
        "Williams , PERSON\n",
        "West Africa , LOCATION\n",
        "U.S. , GPE\n",
        "Liberia , GPE\n",
        "Liberia , GPE\n",
        "Williams , PERSON\n",
        "Liberia"
       ]
      },
      {
       "output_type": "stream",
       "stream": "stdout",
       "text": [
        " , GPE\n",
        "William , PERSON\n",
        "New York"
       ]
      },
      {
       "output_type": "stream",
       "stream": "stdout",
       "text": [
        " , GPE\n",
        "Pentagon , FACILITY\n",
        "DOD , ORGANIZATION\n",
        "White"
       ]
      },
      {
       "output_type": "stream",
       "stream": "stdout",
       "text": [
        " , FACILITY\n",
        "House , ORGANIZATION\n",
        "Josh Earnest , PERSON\n",
        "Defense Department , ORGANIZATION\n",
        "West Africa , LOCATION\n",
        "Department , ORGANIZATION\n",
        "Defense , GPE\n",
        "Earnest , PERSON\n",
        "Ebola Quarantined"
       ]
      },
      {
       "output_type": "stream",
       "stream": "stdout",
       "text": [
        " , PERSON\n",
        "U.S. , GPE\n",
        "Ebola , PERSON\n",
        "Pentagon , FACILITY\n",
        "Jessica , PERSON\n",
        "Defense , ORGANIZATION\n",
        "Ebola , PERSON\n",
        "Wright"
       ]
      },
      {
       "output_type": "stream",
       "stream": "stdout",
       "text": [
        " , GPE\n",
        "Pentagon , ORGANIZATION\n",
        "West Africa , LOCATION\n",
        "Ebola , ORGANIZATION\n",
        "Earnest , PERSON\n",
        "Defense Department , ORGANIZATION\n",
        "American , GPE\n",
        "American , GPE\n",
        "Barack Obama"
       ]
      },
      {
       "output_type": "stream",
       "stream": "stdout",
       "text": [
        " , PERSON\n",
        "Ebola , PERSON\n",
        "Ebola , PERSON\n",
        "Ron Klain , PERSON\n",
        "White House , FACILITY\n",
        "New York , GPE\n",
        "New Jersey , GPE\n",
        "Ebola , GPE\n",
        "Klain , GPE\n",
        "Democratic , ORGANIZATION\n",
        "White House"
       ]
      },
      {
       "output_type": "stream",
       "stream": "stdout",
       "text": [
        " , FACILITY\n",
        "Josh Earnest , PERSON\n",
        "Klain , PERSON\n",
        "Klain , GPE\n",
        "Ebola , ORGANIZATION\n",
        "Earnest , PERSON\n",
        "Obama"
       ]
      },
      {
       "output_type": "stream",
       "stream": "stdout",
       "text": [
        " , PERSON\n",
        "Pentagon , FACILITY\n",
        "West Africa , LOCATION\n",
        "Ebola , PERSON\n",
        "Mr. Klain , PERSON\n",
        "Earnest , PERSON\n",
        "Klain"
       ]
      },
      {
       "output_type": "stream",
       "stream": "stdout",
       "text": [
        " , GPE\n",
        "Joe Biden , PERSON\n",
        "Klain , GPE\n",
        "Earnest , PERSON\n",
        "Centers , ORGANIZATION\n",
        "Disease Control , PERSON\n",
        "Klain , PERSON\n",
        "New York"
       ]
      },
      {
       "output_type": "stream",
       "stream": "stdout",
       "text": [
        " , GPE\n",
        "New Jersey , GPE\n",
        "Democratic New York , ORGANIZATION\n",
        "Andrew , PERSON\n",
        "Cuomo , ORGANIZATION\n",
        "Republican , ORGANIZATION\n",
        "Jersey Gov , PERSON\n",
        "Chris Christie"
       ]
      },
      {
       "output_type": "stream",
       "stream": "stdout",
       "text": [
        " , PERSON\n",
        "Ebola , PERSON\n",
        "West Africa , LOCATION\n",
        "United States , GPE\n",
        "Christie , GPE\n",
        "Ebola , GPE\n",
        "Obama , ORGANIZATION\n",
        "Christie , PERSON\n",
        "White House"
       ]
      },
      {
       "output_type": "stream",
       "stream": "stdout",
       "text": [
        " , FACILITY\n",
        "Christie , PERSON\n",
        "Health , PERSON\n",
        "Human Services , ORGANIZATION\n",
        "Sylvia Mathews Burwell , PERSON\n",
        "Earnest , PERSON\n",
        "White House , FACILITY\n",
        "James Madison , PERSON\n"
       ]
      }
     ],
     "prompt_number": 38
    },
    {
     "cell_type": "heading",
     "level": 1,
     "metadata": {},
     "source": [
      "Part 2.2"
     ]
    },
    {
     "cell_type": "code",
     "collapsed": false,
     "input": [
      "import re\n",
      "WORKS_AT = re.compile(r'.*\\b(work.*|)\\b')\n",
      "for doc in nltk.corpus.ieer.parsed_docs('NYT_19980315'):\n",
      "    for rel in nltk.sem.extract_rels('PER', 'ORG', doc, corpus='ieer', pattern = WORKS_AT):\n",
      "        print(nltk.sem.rtuple(rel))"
     ],
     "language": "python",
     "metadata": {},
     "outputs": [
      {
       "output_type": "stream",
       "stream": "stdout",
       "text": [
        "[PER: u'Bob Edwards'] u'has presided over the' [ORG: u'National Public Radio']\n",
        "[PER: u'Wertheimer'] u'_ and, by implication, the faithful' [ORG: u'NPR']\n",
        "[PER: u'Mike Godwin'] u', chief counsel for the' [ORG: u'Electronic Frontier Foundation']\n",
        "[PER: u'Cohn'] u', a partner in the' [ORG: u'McGlashan &AMP; Sarrail']\n",
        "[PER: u'Lillian R. Berkman'] u'to support its' [ORG: u'Center for Internet and Society']\n",
        "[PER: u'James Boyle'] u'from' [ORG: u'American University']\n",
        "[PER: u'Robert Mergess'] u', the co-director of the' [ORG: u'Berkeley Center for Law and Technology']\n",
        "[PER: u'Jack Balkin'] u\", director of the school's program. ``What happened at\" [ORG: u'Yale']\n",
        "[PER: u'Pam Samuelson'] u', who helped found' [ORG: u'Berkeley']\n",
        "[PER: u'Clinton'] u\"administration's proposal to adapt copyright law to cyberspace, said\" [ORG: u'Berkeley']\n",
        "[PER: u'Samuelson'] u'said that centers like' [ORG: u'Berkeley']\n",
        "[PER: u'Samuelson'] u'said. Although by most accounts' [ORG: u'Harvard']\n",
        "[PER: u'Michael Froomkin'] u'at the' [ORG: u'University of Miami']\n",
        "[PER: u'Dan Burk'] u'at' [ORG: u'Seton Hall University']\n",
        "[PER: u'David Post'] u', co-founder of the' [ORG: u'Cyberspace Law Institute']\n",
        "[PER: u'Frank Easterbrook'] u'of the' [ORG: u'7th U.S. Circuit Court of Appeals']\n",
        "[PER: u'Jones'] u'will introduce' [ORG: u'Qradio']\n",
        "[PER: u'Jones'] u', said the seed that germinated into' [ORG: u'Qradio']\n",
        "[PER: u'Vern Fotheringham'] u', a founding partner of' [ORG: u'Qradio']\n",
        "[PER: u'William Gale'] u', an economist at the' [ORG: u'Brookings Institution']\n",
        "[PER: u'Joel Slemrod'] u', an economist at the' [ORG: u'University of Michigan']\n",
        "[PER: u'Alan Braverman'] u', Internet analyst at' [ORG: u'Credit Suisse First Boston']\n",
        "[PER: u'Bill Gross'] u', president of' [ORG: u'Idealab']\n",
        "[PER: u'Abe Kleinfield'] u', a vice president at' [ORG: u'Open Text']\n",
        "[PER: u'Braverman'] u'said. Success today comes from branding and distribution, and' [ORG: u'Yahoo']\n",
        "[PER: u'Kaufman'] u', president of the privately held' [ORG: u'TV Books LLC']\n",
        "[PER: u'Kaufman'] u'would not disclose financial details of the deal.' [ORG: u'TV Books']\n",
        "[PER: u'Michael Coffey'] u', managing editor of' [ORG: u'Publishers Weekly']\n",
        "[PER: u'Lorne Michaels'] u\", the executive producer of ``Saturday Night Live.''\" [ORG: u'TV Books']\n",
        "[PER: u'James Billington'] u', the librarian of' [ORG: u'Congress']\n",
        "[PER: u'Sherry Lansing'] u', chairwoman of the' [ORG: u'Paramount Motion Picture Group']"
       ]
      },
      {
       "output_type": "stream",
       "stream": "stdout",
       "text": [
        "\n",
        "[PER: u'Lindsay Doran'] u', president of' [ORG: u'United Artists']\n",
        "[PER: u'Baz Luhrmann'] u\"'s\" [ORG: u'MTV']\n",
        "[PER: u'Laura Ziskin'] u', president of' [ORG: u'Fox 2000']\n",
        "[PER: u'Rick Yorn'] u', his manager at the firm' [ORG: u'Addis-Wechsler &AMP; Associates']\n",
        "[PER: u'Tom Rothman'] u', president of production at' [ORG: u'20th Century Fox']\n",
        "[PER: u'Charlotte Forest'] u', executive producer for' [ORG: u'Homestead Editorial']\n",
        "[PER: u'Richard Strauss'] u\"' ``Salome'' at\" [ORG: u'La Scala']\n",
        "[PER: u'Wilson'] u\"'s only previous encounter with the\" [ORG: u'Met']\n",
        "[PER: u'Philip Glass'] u'. This was not part of the' [ORG: u'Met']\n",
        "[PER: u'John Wren'] u', the president and chief executive at' [ORG: u'Omnicom']\n",
        "[PER: u'Steve Davis'] u', who joined' [ORG: u'Wells']\n",
        "[PER: u'Wren'] u'said. That sealed' [ORG: u'Wells']\n",
        "[PER: u'Charlie Moss'] u', the chairman of' [ORG: u'Moss/Dragoti']\n",
        "[PER: u'Ken Kaess'] u', president of the' [ORG: u'DDB Needham']\n",
        "[PER: u'Lawrence'] u'withdrew from active involvement, and financial problems began to impede' [ORG: u'Wells']\n",
        "[PER: u'Linda Kaplan Thaler'] u', who worked at' [ORG: u'Wells']\n",
        "[PER: u'Kaplan Thaler'] u'opened after leaving' [ORG: u'Wells']\n",
        "[PER: u'Kaplan Thaler'] u'had worked for' [ORG: u\"Toys ``R'' Us\"]\n",
        "[PER: u'Kaplan Thaler'] u'had been bound by a noncompetition agreement with' [ORG: u'Wells']\n",
        "[PER: u'Ken Haldin'] u', a spokesman for' [ORG: u'Georgia-Pacific']\n",
        "[PER: u'Davis'] u', who said he would consider his next move after' [ORG: u'Wells']\n"
       ]
      }
     ],
     "prompt_number": 39
    },
    {
     "cell_type": "code",
     "collapsed": false,
     "input": [
      "AT = re.compile(r'.*\\bat\\b')\n",
      "for doc in nltk.corpus.ieer.parsed_docs('NYT_19980315'):\n",
      "    for rel in nltk.sem.extract_rels('PER', 'ORG', doc, corpus='ieer', pattern = AT):\n",
      "        print(nltk.sem.rtuple(rel))"
     ],
     "language": "python",
     "metadata": {},
     "outputs": [
      {
       "output_type": "stream",
       "stream": "stdout",
       "text": [
        "[PER: u'Jack Balkin'] u\", director of the school's program. ``What happened at\" [ORG: u'Yale']\n",
        "[PER: u'Michael Froomkin'] u'at the' [ORG: u'University of Miami']\n",
        "[PER: u'Dan Burk'] u'at' [ORG: u'Seton Hall University']\n",
        "[PER: u'William Gale'] u', an economist at the' [ORG: u'Brookings Institution']\n",
        "[PER: u'Joel Slemrod'] u', an economist at the' [ORG: u'University of Michigan']\n",
        "[PER: u'Alan Braverman'] u', Internet analyst at' [ORG: u'Credit Suisse First Boston']\n",
        "[PER: u'Abe Kleinfield'] u', a vice president at' [ORG: u'Open Text']\n",
        "[PER: u'Rick Yorn'] u', his manager at the firm' [ORG: u'Addis-Wechsler &AMP; Associates']\n",
        "[PER: u'Tom Rothman'] u', president of production at' [ORG: u'20th Century Fox']\n",
        "[PER: u'Richard Strauss'] u\"' ``Salome'' at\" [ORG: u'La Scala']"
       ]
      },
      {
       "output_type": "stream",
       "stream": "stdout",
       "text": [
        "\n",
        "[PER: u'John Wren'] u', the president and chief executive at' [ORG: u'Omnicom']\n",
        "[PER: u'Linda Kaplan Thaler'] u', who worked at' [ORG: u'Wells']\n"
       ]
      }
     ],
     "prompt_number": 40
    },
    {
     "cell_type": "code",
     "collapsed": false,
     "input": [
      "OF = re.compile(r'.*\\bof\\b')\n",
      "for doc in nltk.corpus.ieer.parsed_docs('NYT_19980315'):\n",
      "    for rel in nltk.sem.extract_rels('PER', 'ORG', doc, corpus='ieer', pattern = OF):\n",
      "        print(nltk.sem.rtuple(rel))"
     ],
     "language": "python",
     "metadata": {},
     "outputs": [
      {
       "output_type": "stream",
       "stream": "stdout",
       "text": [
        "[PER: u'Robert Mergess'] u', the co-director of the' [ORG: u'Berkeley Center for Law and Technology']\n",
        "[PER: u'Jack Balkin'] u\", director of the school's program. ``What happened at\" [ORG: u'Yale']\n",
        "[PER: u'David Post'] u', co-founder of the' [ORG: u'Cyberspace Law Institute']\n",
        "[PER: u'Frank Easterbrook'] u'of the' [ORG: u'7th U.S. Circuit Court of Appeals']\n",
        "[PER: u'Vern Fotheringham'] u', a founding partner of' [ORG: u'Qradio']\n",
        "[PER: u'Bill Gross'] u', president of' [ORG: u'Idealab']\n",
        "[PER: u'Kaufman'] u', president of the privately held' [ORG: u'TV Books LLC']\n",
        "[PER: u'Kaufman'] u'would not disclose financial details of the deal.' [ORG: u'TV Books']\n",
        "[PER: u'Michael Coffey'] u', managing editor of' [ORG: u'Publishers Weekly']\n",
        "[PER: u'Lorne Michaels'] u\", the executive producer of ``Saturday Night Live.''\" [ORG: u'TV Books']\n",
        "[PER: u'James Billington'] u', the librarian of' [ORG: u'Congress']\n",
        "[PER: u'Sherry Lansing'] u', chairwoman of the' [ORG: u'Paramount Motion Picture Group']"
       ]
      },
      {
       "output_type": "stream",
       "stream": "stdout",
       "text": [
        "\n",
        "[PER: u'Lindsay Doran'] u', president of' [ORG: u'United Artists']\n",
        "[PER: u'Laura Ziskin'] u', president of' [ORG: u'Fox 2000']\n",
        "[PER: u'Tom Rothman'] u', president of production at' [ORG: u'20th Century Fox']\n",
        "[PER: u'Philip Glass'] u'. This was not part of the' [ORG: u'Met']\n",
        "[PER: u'Charlie Moss'] u', the chairman of' [ORG: u'Moss/Dragoti']\n",
        "[PER: u'Ken Kaess'] u', president of the' [ORG: u'DDB Needham']\n"
       ]
      }
     ],
     "prompt_number": 41
    },
    {
     "cell_type": "code",
     "collapsed": false,
     "input": [
      "FROM = re.compile(r'.*\\bfrom\\b')\n",
      "for doc in nltk.corpus.ieer.parsed_docs('NYT_19980315'):\n",
      "    for rel in nltk.sem.extract_rels('PER', 'ORG', doc, corpus='ieer', pattern = FROM):\n",
      "        print(nltk.sem.rtuple(rel))"
     ],
     "language": "python",
     "metadata": {},
     "outputs": [
      {
       "output_type": "stream",
       "stream": "stdout",
       "text": [
        "[PER: u'James Boyle'] u'from' [ORG: u'American University']\n",
        "[PER: u'Braverman'] u'said. Success today comes from branding and distribution, and' [ORG: u'Yahoo']\n",
        "[PER: u'Lawrence'] u'withdrew from active involvement, and financial problems began to impede' [ORG: u'Wells']"
       ]
      },
      {
       "output_type": "stream",
       "stream": "stdout",
       "text": [
        "\n"
       ]
      }
     ],
     "prompt_number": 42
    }
   ],
   "metadata": {}
  }
 ]
}