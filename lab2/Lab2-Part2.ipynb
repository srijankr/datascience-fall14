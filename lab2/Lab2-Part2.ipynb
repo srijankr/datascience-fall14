{
 "metadata": {
  "name": ""
 },
 "nbformat": 3,
 "nbformat_minor": 0,
 "worksheets": [
  {
   "cells": [
    {
     "cell_type": "heading",
     "level": 1,
     "metadata": {},
     "source": [
      "Lab2, Part2"
     ]
    },
    {
     "cell_type": "code",
     "collapsed": false,
     "input": [
      "import pandas as pd\n",
      "import numpy as np\n",
      "import matplotlib.pyplot as plt"
     ],
     "language": "python",
     "metadata": {},
     "outputs": [],
     "prompt_number": 2
    },
    {
     "cell_type": "code",
     "collapsed": false,
     "input": [
      "countries = pd.read_csv('countries.csv')\n",
      "events = pd.read_csv('events.csv')\n",
      "players = pd.read_csv('players.csv')"
     ],
     "language": "python",
     "metadata": {},
     "outputs": [],
     "prompt_number": 3
    },
    {
     "cell_type": "code",
     "collapsed": false,
     "input": [
      "players['name'].str.extract('(^[AEIOU])').count()"
     ],
     "language": "python",
     "metadata": {},
     "outputs": [
      {
       "metadata": {},
       "output_type": "pyout",
       "prompt_number": 4,
       "text": [
        "84"
       ]
      }
     ],
     "prompt_number": 4
    },
    {
     "cell_type": "code",
     "collapsed": false,
     "input": [
      "players[(players['country_id'] == 'USA') & (players['name'].str.startswith('A'))]"
     ],
     "language": "python",
     "metadata": {},
     "outputs": [
      {
       "html": [
        "<div style=\"max-height:1000px;max-width:1500px;overflow:auto;\">\n",
        "<table border=\"1\" class=\"dataframe\">\n",
        "  <thead>\n",
        "    <tr style=\"text-align: right;\">\n",
        "      <th></th>\n",
        "      <th>name</th>\n",
        "      <th>player_id</th>\n",
        "      <th>country_id</th>\n",
        "      <th>birthdate</th>\n",
        "    </tr>\n",
        "  </thead>\n",
        "  <tbody>\n",
        "    <tr>\n",
        "      <th>1 </th>\n",
        "      <td> Aaron Peirsol                           </td>\n",
        "      <td> PEIRSAAR01</td>\n",
        "      <td> USA</td>\n",
        "      <td> 1978-08-26</td>\n",
        "    </tr>\n",
        "    <tr>\n",
        "      <th>3 </th>\n",
        "      <td> Adam Nelson                             </td>\n",
        "      <td> NELSOADA01</td>\n",
        "      <td> USA</td>\n",
        "      <td> 1984-10-13</td>\n",
        "    </tr>\n",
        "    <tr>\n",
        "      <th>15</th>\n",
        "      <td> Allyson Felix                           </td>\n",
        "      <td> FELIXALL01</td>\n",
        "      <td> USA</td>\n",
        "      <td> 1975-01-04</td>\n",
        "    </tr>\n",
        "    <tr>\n",
        "      <th>16</th>\n",
        "      <td> Alvin Harrison                          </td>\n",
        "      <td> HARRIALV01</td>\n",
        "      <td> USA</td>\n",
        "      <td> 1976-05-15</td>\n",
        "    </tr>\n",
        "    <tr>\n",
        "      <th>17</th>\n",
        "      <td> Amanda Beard                            </td>\n",
        "      <td> BEARDAMA01</td>\n",
        "      <td> USA</td>\n",
        "      <td> 1980-10-22</td>\n",
        "    </tr>\n",
        "    <tr>\n",
        "      <th>18</th>\n",
        "      <td> Amanda Weir                             </td>\n",
        "      <td> WEIRAMA01 </td>\n",
        "      <td> USA</td>\n",
        "      <td> 1979-01-09</td>\n",
        "    </tr>\n",
        "    <tr>\n",
        "      <th>19</th>\n",
        "      <td> Amy van Dyken                           </td>\n",
        "      <td> VANDYAMY01</td>\n",
        "      <td> USA</td>\n",
        "      <td> 1983-07-26</td>\n",
        "    </tr>\n",
        "    <tr>\n",
        "      <th>25</th>\n",
        "      <td> Angelo Taylor                           </td>\n",
        "      <td> TAYLOANG02</td>\n",
        "      <td> USA</td>\n",
        "      <td> 1974-08-24</td>\n",
        "    </tr>\n",
        "    <tr>\n",
        "      <th>30</th>\n",
        "      <td> Anthony Ervin                           </td>\n",
        "      <td> ERVINANT01</td>\n",
        "      <td> USA</td>\n",
        "      <td> 1972-02-14</td>\n",
        "    </tr>\n",
        "    <tr>\n",
        "      <th>32</th>\n",
        "      <td> Antonio Pettigrew                       </td>\n",
        "      <td> PETTIANT01</td>\n",
        "      <td> USA</td>\n",
        "      <td> 1976-03-21</td>\n",
        "    </tr>\n",
        "  </tbody>\n",
        "</table>\n",
        "<p>10 rows \u00d7 4 columns</p>\n",
        "</div>"
       ],
       "metadata": {},
       "output_type": "pyout",
       "prompt_number": 5,
       "text": [
        "                                        name   player_id country_id  \\\n",
        "1   Aaron Peirsol                             PEIRSAAR01        USA   \n",
        "3   Adam Nelson                               NELSOADA01        USA   \n",
        "15  Allyson Felix                             FELIXALL01        USA   \n",
        "16  Alvin Harrison                            HARRIALV01        USA   \n",
        "17  Amanda Beard                              BEARDAMA01        USA   \n",
        "18  Amanda Weir                               WEIRAMA01         USA   \n",
        "19  Amy van Dyken                             VANDYAMY01        USA   \n",
        "25  Angelo Taylor                             TAYLOANG02        USA   \n",
        "30  Anthony Ervin                             ERVINANT01        USA   \n",
        "32  Antonio Pettigrew                         PETTIANT01        USA   \n",
        "\n",
        "     birthdate  \n",
        "1   1978-08-26  \n",
        "3   1984-10-13  \n",
        "15  1975-01-04  \n",
        "16  1976-05-15  \n",
        "17  1980-10-22  \n",
        "18  1979-01-09  \n",
        "19  1983-07-26  \n",
        "25  1974-08-24  \n",
        "30  1972-02-14  \n",
        "32  1976-03-21  \n",
        "\n",
        "[10 rows x 4 columns]"
       ]
      }
     ],
     "prompt_number": 5
    },
    {
     "cell_type": "code",
     "collapsed": false,
     "input": [
      "pc = pd.merge(countries, players, on='country_id')\n",
      "pc.groupby('name_x').size()"
     ],
     "language": "python",
     "metadata": {},
     "outputs": [
      {
       "metadata": {},
       "output_type": "pyout",
       "prompt_number": 6,
       "text": [
        "name_x\n",
        "Algeria                                      4\n",
        "Argentina                                    1\n",
        "Australia                                   34\n",
        "Austria                                      2\n",
        "Barbados                                     1\n",
        "Belarus                                      7\n",
        "Brazil                                       9\n",
        "Bulgaria                                     1\n",
        "Cameroon                                     1\n",
        "Canada                                       1\n",
        "China                                        8\n",
        "Costa Rica                                   1\n",
        "Croatia                                      1\n",
        "Cuba                                        12\n",
        "Czech Republic                               3\n",
        "Denmark                                      2\n",
        "Dominican Republic                           1\n",
        "Eritrea                                      1\n",
        "Estonia                                      2\n",
        "Ethiopia                                    12\n",
        "Finland                                      1\n",
        "France                                      10\n",
        "Germany                                     22\n",
        "Greece                                       7\n",
        "Hungary                                      4\n",
        "Iceland                                      1\n",
        "Ireland                                      1\n",
        "Italy                                       12\n",
        "Jamaica                                     18\n",
        "Japan                                       16\n",
        "Kazakhstan                                   2\n",
        "Kenya                                       13\n",
        "Latvia                                       2\n",
        "Lithuania                                    2\n",
        "Mexico                                       3\n",
        "Morocco                                      5\n",
        "Mozambique                                   1\n",
        "Netherlands                                 13\n",
        "Nigeria                                     12\n",
        "Norway                                       3\n",
        "Poland                                       5\n",
        "Portugal                                     3\n",
        "Romania                                     10\n",
        "Russia                                      38\n",
        "Saudi Arabia                                 1\n",
        "Slovakia                                     1\n",
        "Slovenia                                     1\n",
        "South Africa                                10\n",
        "Spain                                        4\n",
        "Sri Lanka                                    1\n",
        "Sweden                                       9\n",
        "The Bahamas                                  5\n",
        "Trinidad and Tobago                          2\n",
        "Turkey                                       1\n",
        "Ukraine                                      9\n",
        "United Kingdom                              12\n",
        "United States                               88\n",
        "Zimbabwe                                     1\n",
        "Length: 58, dtype: int64"
       ]
      }
     ],
     "prompt_number": 6
    },
    {
     "cell_type": "code",
     "collapsed": false,
     "input": [
      "pc = pd.merge(countries, players, on='country_id', how='outer')\n",
      "pc.groupby(['name_x', pc['birthdate'].str.extract('(1975)')]).size()"
     ],
     "language": "python",
     "metadata": {},
     "outputs": [
      {
       "metadata": {},
       "output_type": "pyout",
       "prompt_number": 59,
       "text": [
        "name_x                                    birthdate\n",
        "Australia                                 1975         3\n",
        "Belarus                                   1975         1\n",
        "Brazil                                    1975         1\n",
        "Cuba                                      1975         1\n",
        "Czech Republic                            1975         1\n",
        "Denmark                                   1975         1\n",
        "Eritrea                                   1975         1\n",
        "Estonia                                   1975         1\n",
        "Ethiopia                                  1975         1\n",
        "Germany                                   1975         1\n",
        "Italy                                     1975         1\n",
        "Jamaica                                   1975         1\n",
        "Japan                                     1975         3\n",
        "Kazakhstan                                1975         1\n",
        "Lithuania                                 1975         1\n",
        "Romania                                   1975         1\n",
        "South Africa                              1975         4\n",
        "Sweden                                    1975         2\n",
        "United Kingdom                            1975         1\n",
        "United States                             1975         5\n",
        "dtype: int64"
       ]
      }
     ],
     "prompt_number": 59
    }
   ],
   "metadata": {}
  }
 ]
}