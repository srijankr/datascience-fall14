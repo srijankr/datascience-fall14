{
 "metadata": {
  "name": "srijan"
 }, 
 "nbformat": 2, 
 "worksheets": [
  {
   "cells": [
    {
     "cell_type": "code", 
     "collapsed": false, 
     "input": [
      "import pandas as pd", 
      "import numpy as np", 
      "import matplotlib.pyplot as plt", 
      "%pylab inline"
     ], 
     "language": "python", 
     "outputs": [
      {
       "output_type": "stream", 
       "stream": "stdout", 
       "text": [
        "", 
        "Welcome to pylab, a matplotlib-based Python environment [backend: module://IPython.zmq.pylab.backend_inline].", 
        "For more information, type 'help(pylab)'."
       ]
      }
     ], 
     "prompt_number": 28
    }, 
    {
     "cell_type": "code", 
     "collapsed": true, 
     "input": [
      "countries = pd.read_csv('./countries.csv')", 
      "players = pd.read_csv('./players.csv')", 
      "events = pd.read_csv('./events.csv')"
     ], 
     "language": "python", 
     "outputs": [], 
     "prompt_number": 29
    }, 
    {
     "cell_type": "markdown", 
     "source": [
      "Count the total number of players whose names start with a vowel ('A', 'E', 'I', 'O', 'U')."
     ]
    }, 
    {
     "cell_type": "code", 
     "collapsed": false, 
     "input": [
      "names = players['name']", 
      "count = 0", 
      "vowels = ['A','E','I','O','U']", 
      "for name in names:", 
      "    if name[0] in vowels:", 
      "        count += 1", 
      "print 'Number of players with names starting with a,e,i,o,u = ', count"
     ], 
     "language": "python", 
     "outputs": [
      {
       "output_type": "stream", 
       "stream": "stdout", 
       "text": [
        "Number of players with names starting with a,e,i,o,u =  84"
       ]
      }
     ], 
     "prompt_number": 30
    }, 
    {
     "cell_type": "code", 
     "collapsed": false, 
     "input": [
      "print 'Number of players with names starting with a,e,i,o,u = ', players['name'].str.extract('(^[AEIOU])').count()"
     ], 
     "language": "python", 
     "outputs": [
      {
       "output_type": "stream", 
       "stream": "stdout", 
       "text": [
        "Number of players with names starting with a,e,i,o,u =  84"
       ]
      }
     ], 
     "prompt_number": 14
    }, 
    {
     "cell_type": "markdown", 
     "source": [
      "Find players from 'USA' whose names start with 'A'. "
     ]
    }, 
    {
     "cell_type": "code", 
     "collapsed": false, 
     "input": [
      "players[(players['country_id'] == 'USA') & (players['name'].str.startswith('A'))]['name']"
     ], 
     "language": "python", 
     "outputs": [
      {
       "output_type": "pyout", 
       "prompt_number": 16, 
       "text": [
        "1     Aaron Peirsol                           ", 
        "3     Adam Nelson                             ", 
        "15    Allyson Felix                           ", 
        "16    Alvin Harrison                          ", 
        "17    Amanda Beard                            ", 
        "18    Amanda Weir                             ", 
        "19    Amy van Dyken                           ", 
        "25    Angelo Taylor                           ", 
        "30    Anthony Ervin                           ", 
        "32    Antonio Pettigrew                       ", 
        "Name: name, dtype: object"
       ]
      }
     ], 
     "prompt_number": 16
    }, 
    {
     "cell_type": "markdown", 
     "source": [
      "Construct a dataframe with two columns: country_name, num_players. Use groupby"
     ]
    }, 
    {
     "cell_type": "code", 
     "collapsed": false, 
     "input": [
      "pc = pd.merge(countries, players, on='country_id')", 
      "dframe = pc.groupby('name_x').size()", 
      "print dframe"
     ], 
     "language": "python", 
     "outputs": [
      {
       "output_type": "stream", 
       "stream": "stdout", 
       "text": [
        "name_x", 
        "Algeria                                      4", 
        "Argentina                                    1", 
        "Australia                                   34", 
        "Austria                                      2", 
        "Barbados                                     1", 
        "Belarus                                      7", 
        "Brazil                                       9", 
        "Bulgaria                                     1", 
        "Cameroon                                     1", 
        "Canada                                       1", 
        "China                                        8", 
        "Costa Rica                                   1", 
        "Croatia                                      1", 
        "Cuba                                        12", 
        "Czech Republic                               3", 
        "Denmark                                      2", 
        "Dominican Republic                           1", 
        "Eritrea                                      1", 
        "Estonia                                      2", 
        "Ethiopia                                    12", 
        "Finland                                      1", 
        "France                                      10", 
        "Germany                                     22", 
        "Greece                                       7", 
        "Hungary                                      4", 
        "Iceland                                      1", 
        "Ireland                                      1", 
        "Italy                                       12", 
        "Jamaica                                     18", 
        "Japan                                       16", 
        "Kazakhstan                                   2", 
        "Kenya                                       13", 
        "Latvia                                       2", 
        "Lithuania                                    2", 
        "Mexico                                       3", 
        "Morocco                                      5", 
        "Mozambique                                   1", 
        "Netherlands                                 13", 
        "Nigeria                                     12", 
        "Norway                                       3", 
        "Poland                                       5", 
        "Portugal                                     3", 
        "Romania                                     10", 
        "Russia                                      38", 
        "Saudi Arabia                                 1", 
        "Slovakia                                     1", 
        "Slovenia                                     1", 
        "South Africa                                10", 
        "Spain                                        4", 
        "Sri Lanka                                    1", 
        "Sweden                                       9", 
        "The Bahamas                                  5", 
        "Trinidad and Tobago                          2", 
        "Turkey                                       1", 
        "Ukraine                                      9", 
        "United Kingdom                              12", 
        "United States                               88", 
        "Zimbabwe                                     1", 
        "Length: 58, dtype: int64"
       ]
      }
     ], 
     "prompt_number": 28
    }, 
    {
     "cell_type": "markdown", 
     "source": [
      "Convert the above left outer join query (last question in the SQL assignment) into pandas equivalent."
     ]
    }, 
    {
     "cell_type": "code", 
     "collapsed": false, 
     "input": [
      "pc = pd.merge(countries, players, on='country_id', how='outer')"
     ], 
     "language": "python", 
     "outputs": [], 
     "prompt_number": 32
    }, 
    {
     "cell_type": "code", 
     "collapsed": true, 
     "input": [], 
     "language": "python", 
     "outputs": []
    }
   ]
  }
 ]
}