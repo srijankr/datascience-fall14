{
 "metadata": {
  "name": "Lab0 notebook"
 }, 
 "nbformat": 2, 
 "worksheets": [
  {
   "cells": [
    {
     "cell_type": "code", 
     "collapsed": false, 
     "input": [
      "%matplotlib inline", 
      "import numpy ", 
      "import matplotlib.pyplot as plt", 
      "import networkx as nx"
     ], 
     "language": "python", 
     "outputs": [
      {
       "output_type": "stream", 
       "stream": "stderr", 
       "text": [
        "ERROR: Magic function `matplotlib` not found."
       ]
      }
     ], 
     "prompt_number": 8
    }, 
    {
     "cell_type": "markdown", 
     "source": [
      "For some reason, the command \"%matplotlib inline\" is not working and it says \"ERROR: Magic function `matplotlib` not found.\".", 
      "Running the whole code takes less than a minute, and it produces a graph in a new window."
     ]
    }, 
    {
     "cell_type": "code", 
     "collapsed": true, 
     "input": [
      "zoo = nx.read_weighted_edgelist(\"../data/slashdot_zoo.network\",comments=\"%\",create_using=nx.DiGraph())"
     ], 
     "language": "python", 
     "outputs": [], 
     "prompt_number": 9
    }, 
    {
     "cell_type": "code", 
     "collapsed": true, 
     "input": [
      "indegree = {}", 
      "outdegree = {}"
     ], 
     "language": "python", 
     "outputs": [], 
     "prompt_number": 10
    }, 
    {
     "cell_type": "code", 
     "collapsed": true, 
     "input": [
      "for node in zoo.nodes():", 
      "    for e in zoo[node]:", 
      "        indegree[e] = indegree.get(e,0) + zoo[node][e]['weight']", 
      "        outdegree[node] = outdegree.get(node,0) + zoo[node][e]['weight']", 
      "        outdegree[e] = outdegree.get(e,0)", 
      "        indegree[node] = indegree.get(node,0)", 
      "    "
     ], 
     "language": "python", 
     "outputs": [], 
     "prompt_number": 11
    }, 
    {
     "cell_type": "code", 
     "collapsed": false, 
     "input": [
      "len(indegree.values())", 
      "len(outdegree.values())"
     ], 
     "language": "python", 
     "outputs": [
      {
       "output_type": "pyout", 
       "prompt_number": 12, 
       "text": [
        "71512"
       ]
      }
     ], 
     "prompt_number": 12
    }, 
    {
     "cell_type": "code", 
     "collapsed": false, 
     "input": [
      "plt.axes()", 
      "plt.xlabel('Indegree')", 
      "plt.ylabel('Outdegree')", 
      "plt.title('Indegree vs Outdegree plot of users in The Slashdot Zoo')", 
      "plt.plot(indegree.values(),outdegree.values(),'ro')", 
      "plt.show()"
     ], 
     "language": "python", 
     "outputs": [], 
     "prompt_number": 13
    }
   ]
  }
 ]
}