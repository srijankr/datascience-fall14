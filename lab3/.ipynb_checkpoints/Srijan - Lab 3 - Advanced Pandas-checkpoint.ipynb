{
 "metadata": {
  "name": "",
  "signature": "sha256:5d4450301fca1759e2f36de0acb62d749edb474a95edcfe8d89c966589b536ea"
 },
 "nbformat": 3,
 "nbformat_minor": 0,
 "worksheets": [
  {
   "cells": [
    {
     "cell_type": "markdown",
     "metadata": {},
     "source": [
      "Advanced Pandas Lab\n",
      "===================\n",
      "\n",
      "The goal of this part of Lab3 is to go over some advanced functionalities of the pandas package. To complete this exercise you need to follow the code provided below step-by-step. At different points you will be requested to complete various code segments so that you retrieve the output presented in the following cells."
     ]
    },
    {
     "cell_type": "code",
     "collapsed": false,
     "input": [
      "# Import pandas and numpy\n",
      "import pandas as pd\n",
      "import numpy as np\n",
      "\n",
      "# Set some Pandas options\n",
      "pd.set_option('display.notebook_repr_html', False)\n",
      "pd.set_option('display.max_columns', 20)\n",
      "pd.set_option('display.max_rows', 25)\n",
      "np.set_printoptions(threshold='nan')"
     ],
     "language": "python",
     "metadata": {},
     "outputs": [],
     "prompt_number": 58
    },
    {
     "cell_type": "markdown",
     "metadata": {},
     "source": [
      "Dataset Description\n",
      "-------------------\n",
      "\n",
      "In this lab we are going to use a dataset from a multi-center, randomized controlled trial of botulinum toxin type B (BotB) in patients with cervical dystonia from nine U.S. sites. Below you can find some information about the clinical trial:\n",
      "\n",
      "* Patients were randomly separated in three groups. The first group had N=36 patients and received a placebo, the second group had N=36 patients and received 5000 units of BotB, and the last group had N=37 and received 10,000 units of BotB.\n",
      "* The response variable corresponds to the total score on Toronto Western Spasmodic Torticollis Rating Scale (TWSTRS), measuring severity, pain and disability of cervical dystonia (high scores mean more impairment).\n",
      "* TWSTRS is measured at baseline week (week 0) and weeks 2, 4, 8, 12, and 16 after treatment began.\n",
      "\n",
      "Let's load the dataset from a csv file and see how the first rows look like."
     ]
    },
    {
     "cell_type": "code",
     "collapsed": false,
     "input": [
      "cdystonia = pd.read_csv(\"data/cdystonia.csv\", index_col=None)\n",
      "cdystonia['twstrs'] = cdystonia['twstrs'].astype(np.float64)\n",
      "cdystonia.head()"
     ],
     "language": "python",
     "metadata": {},
     "outputs": [
      {
       "metadata": {},
       "output_type": "pyout",
       "prompt_number": 59,
       "text": [
        "   patient  obs  week  site  id  treat  age sex  twstrs\n",
        "0        1    1     0     1   1  5000U   65   F      32\n",
        "1        1    2     2     1   1  5000U   65   F      30\n",
        "2        1    3     4     1   1  5000U   65   F      24\n",
        "3        1    4     8     1   1  5000U   65   F      37\n",
        "4        1    5    12     1   1  5000U   65   F      39"
       ]
      }
     ],
     "prompt_number": 59
    },
    {
     "cell_type": "markdown",
     "metadata": {},
     "source": [
      "Value replacement\n",
      "-----------------\n",
      "\n",
      "Frequently, we get data columns that are encoded as strings that we wish to represent numerically for the purposes of including it in a quantitative analysis. For example, consider the treatment variable in the cervical dystonia dataset. We print the number of rows containing each treatment value."
     ]
    },
    {
     "cell_type": "code",
     "collapsed": false,
     "input": [
      "cdystonia.treat.value_counts()"
     ],
     "language": "python",
     "metadata": {},
     "outputs": [
      {
       "metadata": {},
       "output_type": "pyout",
       "prompt_number": 60,
       "text": [
        "10000U     213\n",
        "5000U      211\n",
        "Placebo    207\n",
        "dtype: int64"
       ]
      }
     ],
     "prompt_number": 60
    },
    {
     "cell_type": "markdown",
     "metadata": {},
     "source": [
      "A logical way to specify these numerically is to change them to integer values, perhaps using \"Placebo\" as a baseline value. If we create a dictionary with the original values as keys and the replacements as values, we can use it to implement the changes. We define the following map: "
     ]
    },
    {
     "cell_type": "code",
     "collapsed": false,
     "input": [
      "treat_map = {'Placebo': 0, '5000U': 1, '10000U': 2}"
     ],
     "language": "python",
     "metadata": {},
     "outputs": [],
     "prompt_number": 61
    },
    {
     "cell_type": "markdown",
     "metadata": {},
     "source": [
      "**Exercise:** Use the *replace* command of pandas ([documentation for replace command](http://pandas.pydata.org/pandas-docs/stable/generated/pandas.DataFrame.replace.html)) on the treat column to replace the string values with the integer values of the map. Store the result of this transformation into a new column named \"treatment\" in the original dataframe. Your output when you print the head of cdystonia should look like:"
     ]
    },
    {
     "cell_type": "code",
     "collapsed": false,
     "input": [
      "cdystonia['treatment'] = cdystonia.treat\n",
      "cdystonia['treatment'].replace(to_replace=treat_map, inplace=True)"
     ],
     "language": "python",
     "metadata": {},
     "outputs": [],
     "prompt_number": 62
    },
    {
     "cell_type": "code",
     "collapsed": false,
     "input": [
      "cdystonia.head()"
     ],
     "language": "python",
     "metadata": {},
     "outputs": [
      {
       "metadata": {},
       "output_type": "pyout",
       "prompt_number": 63,
       "text": [
        "   patient  obs  week  site  id  treat  age sex  twstrs  treatment\n",
        "0        1    1     0     1   1  5000U   65   F      32          1\n",
        "1        1    2     2     1   1  5000U   65   F      30          1\n",
        "2        1    3     4     1   1  5000U   65   F      24          1\n",
        "3        1    4     8     1   1  5000U   65   F      37          1\n",
        "4        1    5    12     1   1  5000U   65   F      39          1"
       ]
      }
     ],
     "prompt_number": 63
    },
    {
     "cell_type": "markdown",
     "metadata": {},
     "source": [
      "Value discretization\n",
      "--------------------\n",
      "\n",
      "Now we focus on discretization of continuous or countable data into bins. The function that you need to use for discretization is *cut* [(documentation for cut command)](http://pandas.pydata.org/pandas-docs/stable/generated/pandas.cut.html). We want to bin the ages of the cervical dystonia patients into a smaller number of groups. Let's see some statistics regarding the age column of cdystonia."
     ]
    },
    {
     "cell_type": "code",
     "collapsed": false,
     "input": [
      "cdystonia.age.describe()"
     ],
     "language": "python",
     "metadata": {},
     "outputs": [
      {
       "metadata": {},
       "output_type": "pyout",
       "prompt_number": 64,
       "text": [
        "count    631.000000\n",
        "mean      55.616482\n",
        "std       12.123910\n",
        "min       26.000000\n",
        "25%       46.000000\n",
        "50%       56.000000\n",
        "75%       65.000000\n",
        "max       83.000000\n",
        "dtype: float64"
       ]
      }
     ],
     "prompt_number": 64
    },
    {
     "cell_type": "markdown",
     "metadata": {},
     "source": [
      "**Exercise:** Use the cut command to transform this data into decades, beginning with individuals in their 20's and ending with those in their 90's. More precisely the bins should be set to [20,40,60,80,90]. After you perform the transformation print the first 30 entries of the transformation result. Your output should be:"
     ]
    },
    {
     "cell_type": "code",
     "collapsed": false,
     "input": [
      "bins = [20,40,60,80,90]\n",
      "cutOutput = pd.cut(cdystonia.age, bins)\n",
      "print cutOutput[:20], '\\n',cutOutput[21:30] # printing this instead of cutOutput[:30] as numpy array got compressed during display.\n",
      "#This is equivalent to cutOutput[:30]"
     ],
     "language": "python",
     "metadata": {},
     "outputs": [
      {
       "output_type": "stream",
       "stream": "stdout",
       "text": [
        " (60, 80]\n",
        " (60, 80]\n",
        " (60, 80]\n",
        " (60, 80]\n",
        " (60, 80]\n",
        " (60, 80]\n",
        " (60, 80]\n",
        " (60, 80]\n",
        " (60, 80]\n",
        " (60, 80]\n",
        " (60, 80]\n",
        " (60, 80]\n",
        " (60, 80]\n",
        " (60, 80]\n",
        " (60, 80]\n",
        " (60, 80]\n",
        " (60, 80]\n",
        " (60, 80]\n",
        " (40, 60]\n",
        " (40, 60]\n",
        "Levels (4): Index([(20, 40], (40, 60], (60, 80], (80, 90]], dtype=object) \n",
        " (40, 60]\n",
        " (60, 80]\n",
        " (60, 80]\n",
        " (60, 80]\n",
        " (60, 80]\n",
        " (60, 80]\n",
        " (60, 80]\n",
        " (40, 60]\n",
        " (40, 60]\n",
        "Levels (4): Index([(20, 40], (40, 60], (60, 80], (80, 90]], dtype=object)\n"
       ]
      }
     ],
     "prompt_number": 65
    },
    {
     "cell_type": "markdown",
     "metadata": {},
     "source": [
      "**Exercise:** Since the data are now **ordinal**, rather than numeric, we can give them labels. Use the cut command again with the same bins from the previous exercise but this time assign the labels 'young', 'middle-aged', 'old' and 'ancient' to each bin respectively. After that, extend the cdystonia DataFrame to contain a new column named \"ageGroup\" that contains the appropriate label for each row. After this transformation, the head of the cdystonia DataFrame should look like this:"
     ]
    },
    {
     "cell_type": "code",
     "collapsed": false,
     "input": [
      "ageGroup = ['young', 'middle-aged', 'old', 'ancient']\n",
      "cdystonia['ageGroup'] = pd.cut(cdystonia.age, bins, labels=ageGroup)"
     ],
     "language": "python",
     "metadata": {},
     "outputs": [],
     "prompt_number": 66
    },
    {
     "cell_type": "code",
     "collapsed": false,
     "input": [
      "cdystonia.head()"
     ],
     "language": "python",
     "metadata": {},
     "outputs": [
      {
       "metadata": {},
       "output_type": "pyout",
       "prompt_number": 67,
       "text": [
        "   patient  obs  week  site  id  treat  age sex  twstrs  treatment ageGroup\n",
        "0        1    1     0     1   1  5000U   65   F      32          1      old\n",
        "1        1    2     2     1   1  5000U   65   F      30          1      old\n",
        "2        1    3     4     1   1  5000U   65   F      24          1      old\n",
        "3        1    4     8     1   1  5000U   65   F      37          1      old\n",
        "4        1    5    12     1   1  5000U   65   F      39          1      old"
       ]
      }
     ],
     "prompt_number": 67
    },
    {
     "cell_type": "markdown",
     "metadata": {},
     "source": [
      "Data aggregation and GroupBy operations\n",
      "---------------------------------------\n",
      "\n",
      "For the following please **read Chapter 9 from the book \"Python for Data Analysis\"**. In the previous lab you saw the **GroupBy** functionality of Pandas. In fact this is one of its most powerful features. On occasion we may want to perform operations on *groups* of observations within a dataset. For example:\n",
      "\n",
      "* **Aggregation**, such as computing the sum of mean of each group, which involves applying a function to each group and returning the aggregated results.\n",
      "\n",
      "* **Slicing** the DataFrame into groups and then doing something with the resulting slices (e.g., plotting).\n",
      "\n",
      "* Apply group-wise **transformations**, such as standardization or normalization."
     ]
    },
    {
     "cell_type": "markdown",
     "metadata": {},
     "source": [
      "**Exercise:** Group the cdystonia data on the 'patient' column. You need to create a new DataFrame named cdystonia_group containing the new data."
     ]
    },
    {
     "cell_type": "code",
     "collapsed": false,
     "input": [
      "cdystonia_group = cdystonia.groupby(cdystonia['patient'])\n",
      "cdystonia_group.head()"
     ],
     "language": "python",
     "metadata": {},
     "outputs": [
      {
       "metadata": {},
       "output_type": "pyout",
       "prompt_number": 68,
       "text": [
        "     patient  obs  week  site  id   treat  age sex  twstrs  treatment  \\\n",
        "0          1    1     0     1   1   5000U   65   F      32          1   \n",
        "1          1    2     2     1   1   5000U   65   F      30          1   \n",
        "2          1    3     4     1   1   5000U   65   F      24          1   \n",
        "3          1    4     8     1   1   5000U   65   F      37          1   \n",
        "4          1    5    12     1   1   5000U   65   F      39          1   \n",
        "6          2    1     0     1   2  10000U   70   F      60          2   \n",
        "7          2    2     2     1   2  10000U   70   F      26          2   \n",
        "8          2    3     4     1   2  10000U   70   F      27          2   \n",
        "9          2    4     8     1   2  10000U   70   F      41          2   \n",
        "10         2    5    12     1   2  10000U   70   F      65          2   \n",
        "12         3    1     0     1   3   5000U   64   F      44          1   \n",
        "13         3    2     2     1   3   5000U   64   F      20          1   \n",
        "..       ...  ...   ...   ...  ..     ...  ...  ..     ...        ...   \n",
        "618      107    4     8     9   9  10000U   50   M      23          2   \n",
        "619      107    6    16     9   9  10000U   50   M      52          2   \n",
        "620      108    1     0     9  10  10000U   39   F      63          2   \n",
        "621      108    2     2     9  10  10000U   39   F      51          2   \n",
        "622      108    3     4     9  10  10000U   39   F      46          2   \n",
        "623      108    4     8     9  10  10000U   39   F      50          2   \n",
        "624      108    5    12     9  10  10000U   39   F      50          2   \n",
        "626      109    1     0     9  11   5000U   57   M      53          1   \n",
        "627      109    2     2     9  11   5000U   57   M      38          1   \n",
        "628      109    4     8     9  11   5000U   57   M      33          1   \n",
        "629      109    5    12     9  11   5000U   57   M      36          1   \n",
        "630      109    6    16     9  11   5000U   57   M      51          1   \n",
        "\n",
        "        ageGroup  \n",
        "0            old  \n",
        "1            old  \n",
        "2            old  \n",
        "3            old  \n",
        "4            old  \n",
        "6            old  \n",
        "7            old  \n",
        "8            old  \n",
        "9            old  \n",
        "10           old  \n",
        "12           old  \n",
        "13           old  \n",
        "..           ...  \n",
        "618  middle-aged  \n",
        "619  middle-aged  \n",
        "620        young  \n",
        "621        young  \n",
        "622        young  \n",
        "623        young  \n",
        "624        young  \n",
        "626  middle-aged  \n",
        "627  middle-aged  \n",
        "628  middle-aged  \n",
        "629  middle-aged  \n",
        "630  middle-aged  \n",
        "\n",
        "[537 rows x 11 columns]"
       ]
      }
     ],
     "prompt_number": 68
    },
    {
     "cell_type": "markdown",
     "metadata": {},
     "source": [
      "A common data analysis procedure is the **split-apply-combine** operation, which groups subsets of data together, applies a function to each of the groups, then recombines them into a new data table.\n",
      "\n",
      "For example, we may want to aggregate our data with some function (e.g., a summation):\n",
      "\n",
      "<img src=\"img/splitApplyCombine.png\">\n",
      "\n",
      "We can aggregate in Pandas using the aggregate (or agg, for short) method."
     ]
    },
    {
     "cell_type": "markdown",
     "metadata": {},
     "source": [
      "**Exercise:** Apply the aggregate method on cdystonia_grouped to obtain the mean value for the column 'twstrs' alone. You can use the method **np.mean** for computing the mean. Store the result in a new dataFrame named patientMeanTwstrs and print its head. The output should be:"
     ]
    },
    {
     "cell_type": "code",
     "collapsed": false,
     "input": [
      "patientMeanTwstrs = cdystonia_group.twstrs.mean()\n",
      "patientMeanTwstrs.head()"
     ],
     "language": "python",
     "metadata": {},
     "outputs": [
      {
       "metadata": {},
       "output_type": "pyout",
       "prompt_number": 69,
       "text": [
        "patient\n",
        "1          33.000000\n",
        "2          47.666667\n",
        "3          30.500000\n",
        "4          60.000000\n",
        "5          46.166667\n",
        "Name: twstrs, dtype: float64"
       ]
      }
     ],
     "prompt_number": 69
    },
    {
     "cell_type": "markdown",
     "metadata": {},
     "source": [
      "**Exercise:** Alternatively, we can **transform** the data, using  a function of our choice with the *transform* method. You are required to normalize the twstrs column of cdystonia_grouped. For that you first need to define a **lambda function** that normalizes the values of a numpy array. Before proceeding, read [this article](http://www.secnetix.de/olli/Python/lambda_functions.hawk) on lambda functions. Also notice that the normalization operation corresponds to replacing each value x in the numpy array with:\n",
      "\n",
      "(x - Mean value of array)/(Standard deviation of array)\n",
      "\n",
      "You should store the normalized data to a new variable named normalizedTWSTRS and print the head. The result should be:"
     ]
    },
    {
     "cell_type": "code",
     "collapsed": false,
     "input": [
      "zscore = lambda x: (x - x.mean()) / x.std()\n",
      "normalizedTWSTRS = cdystonia_group.twstrs.transform(zscore)"
     ],
     "language": "python",
     "metadata": {},
     "outputs": [],
     "prompt_number": 70
    },
    {
     "cell_type": "code",
     "collapsed": false,
     "input": [
      "normalizedTWSTRS.head()"
     ],
     "language": "python",
     "metadata": {},
     "outputs": [
      {
       "metadata": {},
       "output_type": "pyout",
       "prompt_number": 71,
       "text": [
        "0   -0.181369\n",
        "1   -0.544107\n",
        "2   -1.632322\n",
        "3    0.725476\n",
        "4    1.088214\n",
        "Name: twstrs, dtype: float64"
       ]
      }
     ],
     "prompt_number": 71
    },
    {
     "cell_type": "code",
     "collapsed": false,
     "input": [],
     "language": "python",
     "metadata": {},
     "outputs": [],
     "prompt_number": 71
    }
   ],
   "metadata": {}
  }
 ]
}